{
 "cells": [
  {
   "cell_type": "code",
   "execution_count": 1,
   "id": "76cb059f-be75-41bf-af0f-23c3e6cfa426",
   "metadata": {},
   "outputs": [
    {
     "name": "stdout",
     "output_type": "stream",
     "text": [
      "{'ssid': 'Vermont', 'password': '0556665666'}\n",
      "{'ssid': '145 GROUP', 'password': 'ilove145'}\n",
      "{'ssid': 'HelvaciAli_5G', 'password': 'Hali1900'}\n",
      "{'ssid': 'Aliya', 'password': 'aliya9999'}\n",
      "{'ssid': 'Wspace', 'password': 'Wspace2021'}\n",
      "{'ssid': 'CoffeRabb-5G', 'password': 'Rabb123456789'}\n",
      "{'ssid': 'CoffeRabb ', 'password': 'Rabb123456789'}\n",
      "{'ssid': 'SecondCup', 'password': 'secondcup'}\n",
      "{'ssid': 'BagelBar', 'password': 'BagelBar'}\n",
      "{'ssid': 'iPhone', 'password': '19941994'}\n",
      "{'ssid': 'Redmi 9C', 'password': 'ilkin1234'}\n",
      "{'ssid': 'cupcupcoffee', 'password': 'cupcup13'}\n",
      "{'ssid': 'mubu_5G', 'password': '19961996'}\n",
      "{'ssid': 'mubu', 'password': '19961996'}\n",
      "{'ssid': 'Cupcup', 'password': 'cupcup013'}\n",
      "{'ssid': 'Cinnabon_torqovaya', 'password': 'w1122334455'}\n",
      "{'ssid': 'Wake Up', 'password': 'wakeup2021'}\n",
      "{'ssid': 'British Centre 1', 'password': '0702007194'}\n",
      "{'ssid': 'Gloriajeans007', 'password': 'gloriajeans07'}\n",
      "{'ssid': 'Espresso Soul_5G', 'password': 'soul2021'}\n",
      "{'ssid': 'Honours Coffee', 'password': '4455667788'}\n",
      "{'ssid': 'GloriaJeansCoffees 5G', 'password': 'gloriajeans04'}\n",
      "{'ssid': 'GloriaJeansCoffees 2G', 'password': 'gloriajeans04'}\n",
      "{'ssid': 'coffeelea2', 'password': 'coffeelea2'}\n",
      "{'ssid': 'Socialbee', 'password': 'socialbee2020'}\n",
      "{'ssid': 'iPhone XS', 'password': 'ilkin1234'}\n",
      "{'ssid': 'AndroidAP', 'password': '11111111'}\n",
      "{'ssid': 'GloriaJeansCoffees', 'password': 'gloriajeans11'}\n",
      "{'ssid': 'Xiaomi 11T', 'password': '7s3nshvn62ty6ev'}\n",
      "{'ssid': 'TERASS', 'password': 'cook2022'}\n",
      "{'ssid': 'Mokka', 'password': 'mokka2021'}\n",
      "{'ssid': 'MokkaKemer', 'password': 'mokka2021'}\n",
      "{'ssid': 'GloriaJeansCoffees_5G', 'password': 'gloriajeans11'}\n",
      "{'ssid': 'STARBUCKS', 'password': 'starbucks'}\n",
      "{'ssid': 'BRIDGE & DATA', 'password': 'Baku2022@'}\n",
      "{'ssid': 'Barista&Chef', 'password': 'baristachef2020'}\n",
      "{'ssid': 'GloriaJeancCoffeess', 'password': 'gloriajeans03'}\n",
      "{'ssid': \"Bababudan's Coffee\", 'password': 'bababudan7'}\n",
      "{'ssid': 'Chaolincoffee_', 'password': '123456789'}\n",
      "{'ssid': \"Gloria Jean's Coffee\", 'password': 'gloriajeans55'}\n",
      "{'ssid': 'Said', 'password': '111111111'}\n",
      "{'ssid': 'Coffeemoon', 'password': 'coffeemoon'}\n",
      "{'ssid': 'POCO X3 Pro', 'password': 'asglass1234'}\n",
      "{'ssid': 'Chaila_Guest', 'password': 'chaila2021'}\n",
      "{'ssid': 'UZUM KARAOKE_5G', 'password': 'uzum2021'}\n",
      "{'ssid': 'Xiaomi_A6C1_5G', 'password': '19941994'}\n",
      "{'ssid': 'Ailenet 409', 'password': 'mubariz005'}\n",
      "{'ssid': 'Ailenet 409_5G', 'password': 'mubariz005'}\n",
      "{'ssid': 'Data SoCool', 'password': 'data2021'}\n",
      "{'ssid': 'Terra_Coffe_5G', 'password': 'terracoffee2020'}\n",
      "{'ssid': 'The Landmark', 'password': 'Welcome@2020'}\n",
      "{'ssid': 'Riposo Teras', 'password': '0558387777'}\n",
      "{'ssid': 'EastTownRestaurant6', 'password': 'EasTTowN0954'}\n",
      "{'ssid': 'EasTTownRestaurant1', 'password': 'EasTTowN0954'}\n",
      "{'ssid': 'Cook Shop Terras', 'password': 'cookshop2020'}\n",
      "{'ssid': 'PeppePizza2', 'password': 'napoliamore'}\n",
      "{'ssid': 'Maxi_Xalqlar', 'password': '37576122'}\n",
      "{'ssid': 'COFFEEMANiA', 'password': 'coffeemania1985'}\n"
     ]
    },
    {
     "data": {
      "text/plain": [
       "''"
      ]
     },
     "execution_count": 1,
     "metadata": {},
     "output_type": "execute_result"
    }
   ],
   "source": [
    "import subprocess\n",
    "import re\n",
    "\n",
    "command_output = subprocess.run([\"netsh\", \"wlan\", \"show\", \"profiles\"], capture_output = True).stdout.decode()\n",
    "profile_names = (re.findall(\"All User Profile     : (.*)\\r\", command_output))\n",
    "wifi_list = []\n",
    "if len(profile_names) != 0:\n",
    "    for name in profile_names:\n",
    "        wifi_profile = {}\n",
    "        profile_info = subprocess.run([\"netsh\", \"wlan\", \"show\", \"profile\", name], capture_output = True).stdout.decode()\n",
    "        if re.search(\"Security key           : Absent\", profile_info):\n",
    "            continue\n",
    "        else:\n",
    "            wifi_profile[\"ssid\"] = name\n",
    "            profile_info_pass = subprocess.run([\"netsh\", \"wlan\", \"show\", \"profile\", name, \"key=clear\"], capture_output = True).stdout.decode()\n",
    "            password = re.search(\"Key Content            : (.*)\\r\", profile_info_pass)\n",
    "            if password == None:\n",
    "                wifi_profile[\"password\"] = None\n",
    "            else:\n",
    "                wifi_profile[\"password\"] = password[1]\n",
    "            wifi_list.append(wifi_profile) \n",
    "\n",
    "for x in range(len(wifi_list)):\n",
    "    print(wifi_list[x]) \n",
    "input()\n",
    "\n"
   ]
  }
 ],
 "metadata": {
  "kernelspec": {
   "display_name": "Python 3",
   "language": "python",
   "name": "python3"
  },
  "language_info": {
   "codemirror_mode": {
    "name": "ipython",
    "version": 3
   },
   "file_extension": ".py",
   "mimetype": "text/x-python",
   "name": "python",
   "nbconvert_exporter": "python",
   "pygments_lexer": "ipython3",
   "version": "3.10.9"
  },
  "vscode": {
   "interpreter": {
    "hash": "feabd8b36b1b9da9a69dac2b2bf20d28b2d5ddaaf37503277031972f586012da"
   }
  }
 },
 "nbformat": 4,
 "nbformat_minor": 5
}
